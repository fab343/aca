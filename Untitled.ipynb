{
 "cells": [
  {
   "cell_type": "code",
   "execution_count": 1,
   "metadata": {},
   "outputs": [
    {
     "data": {
      "text/plain": [
       "<Figure size 640x480 with 1 Axes>"
      ]
     },
     "metadata": {},
     "output_type": "display_data"
    }
   ],
   "source": [
    "from numpy import *\n",
    "import numpy as np\n",
    "import matplotlib.pyplot as plt\n",
    "import scipy.stats as stats\n",
    "\n",
    "band = 'NIR'\n",
    "\n",
    "def Gamma2sigma(Gamma):\n",
    "    #Function to convert FWHM (Gamma) to standard deviation (sigma)\n",
    "    return Gamma * sqrt(2) / ( sqrt(2 * log(2)) * 2 )\n",
    "\n",
    "\t\n",
    "mu, fwhm = 0, 0.1 # mean and fwhm\n",
    "sigma=Gamma2sigma(fwhm)\n",
    "\n",
    "x = np.linspace(mu - 3*sigma, mu + 3*sigma, 1000)\n",
    "s = stats.norm.pdf(x, mu, sigma)\n",
    "\n",
    "## Plot the straylight as a fraction of the reference spectrum\n",
    "plt.figure()\n",
    "plt.plot(x, s, label = 'Gaussian')\n",
    "#plt.axhline(1.0, 0, 1, color='r', lw=2, label='Req.')\n",
    "plt.xlabel('Wavelength [nm]')\n",
    "plt.ylabel('Straylight fraction [percent]') \n",
    "plt.title('test '+ band)\n",
    "plt.legend(loc = 'upper right')\n",
    "plt.show()\n",
    "plt.savefig('books_read.png')"
   ]
  },
  {
   "cell_type": "code",
   "execution_count": null,
   "metadata": {},
   "outputs": [],
   "source": []
  },
  {
   "cell_type": "code",
   "execution_count": null,
   "metadata": {},
   "outputs": [],
   "source": []
  },
  {
   "cell_type": "code",
   "execution_count": null,
   "metadata": {},
   "outputs": [],
   "source": []
  }
 ],
 "metadata": {
  "kernelspec": {
   "display_name": "Python 3",
   "language": "python",
   "name": "python3"
  },
  "language_info": {
   "codemirror_mode": {
    "name": "ipython",
    "version": 3
   },
   "file_extension": ".py",
   "mimetype": "text/x-python",
   "name": "python",
   "nbconvert_exporter": "python",
   "pygments_lexer": "ipython3",
   "version": "3.6.7"
  }
 },
 "nbformat": 4,
 "nbformat_minor": 2
}
